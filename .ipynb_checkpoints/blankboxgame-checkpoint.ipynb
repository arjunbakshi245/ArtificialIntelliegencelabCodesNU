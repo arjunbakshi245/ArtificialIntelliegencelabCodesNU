{
 "cells": [
  {
   "cell_type": "code",
   "execution_count": 6,
   "metadata": {},
   "outputs": [],
   "source": [
    "m=[[1,1,2],\n",
    "   [1,1,2],\n",
    "   [2,2,3]]\n",
    "\n",
    "final=[[1,1,2],\n",
    "       [1,1,3],\n",
    "       [2,2,2]]\n",
    "\n",
    "def findpos(m,e):\n",
    "    r=0\n",
    "    for i in range(len(m)):\n",
    "        if e in m[i]:\n",
    "            r=i\n",
    "            c=m[i].index(e)\n",
    "    return([r,c])\n",
    "#print(findpos(m,3))\n",
    "\n",
    "def north(m,r,c):\n",
    "    temp=m[r][c]\n",
    "    m[r][c]=m[r-1][c]\n",
    "    m[r-1][c]=temp\n",
    "    return(m)\n",
    "        \n",
    "#print(north(final,2,2))\n",
    "    \n",
    "def south(m,r,c):\n",
    "    temp=m[r][c]\n",
    "    m[r][c]=m[r+1][c]\n",
    "    m[r+1][c]=temp\n",
    "    return(m)\n",
    "\n",
    "def east(m,r,c):\n",
    "    temp=m[r][c]\n",
    "    m[r][c]=m[r][c+1]\n",
    "    m[r][c+1]=temp\n",
    "    return(m)\n",
    "        \n",
    "def west(m,r,c):\n",
    "    temp=m[r][c]\n",
    "    m[r][c]=m[r][c-1]\n",
    "    m[r][c-1]=temp\n",
    "    return(m)\n",
    "        \n",
    "#print(east(m,0,0))  \n"
   ]
  },
  {
   "cell_type": "code",
   "execution_count": 9,
   "metadata": {},
   "outputs": [
    {
     "name": "stdout",
     "output_type": "stream",
     "text": [
      "\n",
      "0\n"
     ]
    }
   ],
   "source": [
    "states=[]\n",
    "\n",
    "def tracepath(m,st):\n",
    "    o1,o2,o3,o4=-1,-1,-1,-1\n",
    "    if(m in states):\n",
    "        return (-9999999)\n",
    "    p=findpos(m,3)\n",
    "    r=p[0]\n",
    "    c=p[1]\n",
    "    print(r,c)\n",
    "    states.append(m)\n",
    "    \n",
    "    if(m==final):\n",
    "        print(st)\n",
    "        return (0)\n",
    "    \n",
    "    \n",
    "    if(r>=1):\n",
    "        new_m= north(m,r,c)\n",
    "        print(new_m)\n",
    "        o1 = 1+tracepath(new_m,'r= '+str(r)+' Col= '+str(c))\n",
    "    if(r<=1):\n",
    "        new_m= south(m,r,c)\n",
    "        o2= 1+tracepath(new_m,'r= '+str(r)+' Col= '+str(c))\n",
    "    if(c>=1):\n",
    "        new_m= west(m,r,c)\n",
    "        o3= 1+tracepath(new_m,'r= '+str(r)+' Col= '+str(c))\n",
    "    if(c<=1):\n",
    "        new_m= east(m,r,c)\n",
    "        o4= 1+tracepath(new_m,'r= '+str(r)+' Col= '+str(c))\n",
    "    \n",
    "    if(o1<0 and o2<0 and o3<0 and o4<0):\n",
    "        return(-9944999)\n",
    "    else:\n",
    "        return(min(o1,o2,o3,o4), st)\n",
    "    \n",
    "\n",
    "print(tracepath(m,''))"
   ]
  },
  {
   "cell_type": "code",
   "execution_count": 26,
   "metadata": {},
   "outputs": [
    {
     "data": {
      "text/plain": [
       "True"
      ]
     },
     "execution_count": 26,
     "metadata": {},
     "output_type": "execute_result"
    }
   ],
   "source": [
    "m==final"
   ]
  },
  {
   "cell_type": "code",
   "execution_count": 42,
   "metadata": {},
   "outputs": [
    {
     "name": "stdout",
     "output_type": "stream",
     "text": [
      "[[1, 1, 2], [1, 3, 1], [2, 2, 2]]\n"
     ]
    }
   ],
   "source": [
    "print(west(m,1,2))"
   ]
  },
  {
   "cell_type": "code",
   "execution_count": null,
   "metadata": {},
   "outputs": [],
   "source": []
  }
 ],
 "metadata": {
  "kernelspec": {
   "display_name": "Python 3",
   "language": "python",
   "name": "python3"
  },
  "language_info": {
   "codemirror_mode": {
    "name": "ipython",
    "version": 3
   },
   "file_extension": ".py",
   "mimetype": "text/x-python",
   "name": "python",
   "nbconvert_exporter": "python",
   "pygments_lexer": "ipython3",
   "version": "3.8.1"
  }
 },
 "nbformat": 4,
 "nbformat_minor": 4
}
