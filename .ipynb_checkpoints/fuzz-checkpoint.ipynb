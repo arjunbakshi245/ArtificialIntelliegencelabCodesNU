{
 "cells": [
  {
   "cell_type": "code",
   "execution_count": 13,
   "id": "interracial-hunger",
   "metadata": {},
   "outputs": [
    {
     "name": "stdout",
     "output_type": "stream",
     "text": [
      "Enter height:  5.7\n",
      "Enter weight:  45\n",
      "(0, 0.5000000000000004, 0)\n",
      "(1, 0, 0)\n"
     ]
    }
   ],
   "source": [
    "#LAB 12\n",
    "\n",
    "height = float(input('Enter height:  '))\n",
    "weight = float(input('Enter weight:  '))\n",
    "def getMembershipVals_height(h):\n",
    "    m_short = -1\n",
    "    m_meduim = -1\n",
    "    m_tall = -1\n",
    "    #for short\n",
    "    if(h < 5.2):\n",
    "        m_short  = 1\n",
    "    elif(5.2>=h>5.7):\n",
    "        m_short = 11.4 - 2*h\n",
    "    else:\n",
    "        m_short = 0\n",
    "    #for medium\n",
    "    if(h < 5.5 or h>6.3):\n",
    "        m_medium  = 0\n",
    "    elif(5.5<=h<5.9):\n",
    "        m_medium = (h-5.5)/0.4\n",
    "    elif(5.9<=h<6.0):\n",
    "        m_medium = 1\n",
    "    else:\n",
    "        m_medium = (6.3-h)/0.3\n",
    "    \n",
    "    #for tall\n",
    "    if(h < 6.0):\n",
    "        m_tall  = 0\n",
    "    elif(6.0<=h<6.3):\n",
    "        m_tall = 2*(h-6.0)\n",
    "    else:\n",
    "        m_tall = 1\n",
    "    return(m_short , m_medium , m_tall)\n",
    "\n",
    "def getMembershipVals_weight(w):\n",
    "    m_under = -1\n",
    "    m_ok = -1\n",
    "    m_over = -1\n",
    "    #for under\n",
    "    if(w < 50):\n",
    "        m_under  = 1\n",
    "    elif(50>=h>60):\n",
    "        m_under = 6 - w/10\n",
    "    else:\n",
    "        m_under = 0\n",
    "    #for ok\n",
    "    if(w < 57 or w > 72):\n",
    "        m_ok  = 0\n",
    "    elif(57 >= w > 64):\n",
    "        m_ok = (w - 57)/7\n",
    "    elif(69 <= w < 72):\n",
    "        m_ok = (72  - w)/3\n",
    "    else:\n",
    "        m_ok = 1\n",
    "    \n",
    "    #for over\n",
    "    if(w < 70):\n",
    "        m_over = 0\n",
    "    elif(70 <= w < 75):\n",
    "        m_over = 0.2*(w-70)\n",
    "    else:\n",
    "        m_over = 1\n",
    "    return(m_under , m_ok , m_over)\n",
    "\n",
    "\n",
    "print(getMembershipVals_height(height))\n",
    "print(getMembershipVals_weight(weight))\n",
    "        \n",
    "#RULE 1 : If((Height is Medium or Short) and (Weight is Overweight) then not acceptable\n",
    "r1_\n"
   ]
  },
  {
   "cell_type": "code",
   "execution_count": null,
   "id": "desperate-charge",
   "metadata": {},
   "outputs": [],
   "source": []
  }
 ],
 "metadata": {
  "kernelspec": {
   "display_name": "Python 3",
   "language": "python",
   "name": "python3"
  },
  "language_info": {
   "codemirror_mode": {
    "name": "ipython",
    "version": 3
   },
   "file_extension": ".py",
   "mimetype": "text/x-python",
   "name": "python",
   "nbconvert_exporter": "python",
   "pygments_lexer": "ipython3",
   "version": "3.6.8"
  }
 },
 "nbformat": 4,
 "nbformat_minor": 5
}
