{
 "cells": [
  {
   "cell_type": "code",
   "execution_count": null,
   "metadata": {},
   "outputs": [],
   "source": [
    "m = [[0,0,0,0],\n",
    "     [0,0,1,0],\n",
    "     [0,0,0,0]]\n",
    "\n",
    "charge=9\n",
    "i=0\n",
    "j=0\n",
    "visited=[]\n",
    "while(m[i][j]!=1):\n",
    "    visited.append([i,j])\n",
    "    m[i][j]=-1\n",
    "    \n"
   ]
  },
  {
   "cell_type": "code",
   "execution_count": 6,
   "metadata": {},
   "outputs": [
    {
     "name": "stdout",
     "output_type": "stream",
     "text": [
      "The map pre-defined is below :\n",
      "['O', 'O', 'O']\n",
      "['O', 'O', 'O']\n",
      "['O', 'O', 'X']\n",
      "\n",
      "Paths are below in coordinate form  : \n",
      "(0,0)->(1,0)->(2,0)->(2,1)->(2,2)\n",
      "(0,0)->(1,0)->(1,1)->(2,1)->(2,2)\n",
      "(0,0)->(1,0)->(1,1)->(1,2)->(2,2)\n",
      "(0,0)->(1,0)->(1,1)->(2,2)\n",
      "(0,0)->(1,0)->(2,1)->(2,2)\n",
      "(0,0)->(0,1)->(1,1)->(2,1)->(2,2)\n",
      "(0,0)->(0,1)->(1,1)->(1,2)->(2,2)\n",
      "(0,0)->(0,1)->(1,1)->(2,2)\n",
      "(0,0)->(0,1)->(0,2)->(1,2)->(2,2)\n",
      "(0,0)->(0,1)->(1,2)->(2,2)\n",
      "(0,0)->(1,1)->(2,1)->(2,2)\n",
      "(0,0)->(1,1)->(1,2)->(2,2)\n",
      "(0,0)->(1,1)->(2,2)\n"
     ]
    }
   ],
   "source": [
    "def traverseMatrix(c, row, col, current_row, current_col, currentPath,charge):\n",
    "    if(charge==current_row + current_col-2):#flag change\n",
    "        return('Back to entry')\n",
    "    if(current_row<0 or current_col<0):\n",
    "        return \"\"\n",
    "    if(current_row >= 3 or current_col >= 3):\n",
    "    # hard coded here, can be made dynamic too\n",
    "        return \"\"    \n",
    "    if(current_row==row-1 and current_col==col-1):\n",
    "             print(currentPath+\"(\"+str(row-1)+\",\"+str(col-1)+\")\")\n",
    "             return \"\"          \n",
    "    if(c[current_row][current_col]=='X'):\n",
    "            return \"\"\n",
    "    traverseMatrix(c,row,col,current_row+1,current_col,currentPath+\"(\"+str(current_row)+\",\"+str(current_col)+\")->\",charge-1)\n",
    "    traverseMatrix(c,row,col,current_row,current_col+1,currentPath+\"(\"+str(current_row)+\",\"+str(current_col)+\")->\",charge-1)\n",
    "    traverseMatrix(c,row,col,current_row+1,current_col+1,currentPath+\"(\"+str(current_row)+\",\"+str(current_col)+\")->\",charge-1)\n",
    "    #traverseMatrix(c,row,col,current_row-1,current_col,currentPath+\"(\"+str(current_row)+\",\"+str(current_col)+\")->\")\n",
    "    #traverseMatrix(c,row,col,current_row,current_col-1,currentPath+\"(\"+str(current_row)+\",\"+str(current_col)+\")->\")\n",
    "charge=6 \n",
    "p=[['O','O','O'],['O','O','O'],['O','O','X']]\n",
    "print('The map pre-defined is below :')\n",
    "for i in p:\n",
    "    print(i)\n",
    "print('')\n",
    "print('Paths are below in coordinate form  : ')\n",
    "traverseMatrix(p,3,3,0,0,\"\",charge)\n",
    "#2,3 goldbox\n",
    "#4,5 entrypoint"
   ]
  },
  {
   "cell_type": "code",
   "execution_count": null,
   "metadata": {},
   "outputs": [],
   "source": []
  }
 ],
 "metadata": {
  "kernelspec": {
   "display_name": "Python 3",
   "language": "python",
   "name": "python3"
  },
  "language_info": {
   "codemirror_mode": {
    "name": "ipython",
    "version": 3
   },
   "file_extension": ".py",
   "mimetype": "text/x-python",
   "name": "python",
   "nbconvert_exporter": "python",
   "pygments_lexer": "ipython3",
   "version": "3.8.1"
  }
 },
 "nbformat": 4,
 "nbformat_minor": 4
}
