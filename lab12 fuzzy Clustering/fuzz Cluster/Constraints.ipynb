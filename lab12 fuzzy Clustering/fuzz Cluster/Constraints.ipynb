{
 "cells": [
  {
   "cell_type": "code",
   "execution_count": 1,
   "id": "nasty-savannah",
   "metadata": {},
   "outputs": [
    {
     "name": "stdout",
     "output_type": "stream",
     "text": [
      "Enter the number of Nodes: 5\n",
      "Enter value of each node in space separated order like : 1 3 43 2 1\n",
      "1 2 4 65 7\n",
      "Enter the number of constraints:  4\n",
      "Format of constraints: V1<V2 V2<V3 V3>V1\n",
      "Enter constraints in above format: V1<V2 V2<V3 V3>V1 V5<V2\n",
      "All possible edge connections ----------------\n",
      "[[0, 1], [1, 2], [2, 0], [4, 1]]\n",
      "----------------------------------------------\n",
      "Constraint Results---------\n",
      "[True, True, True, False]\n",
      "---------------------------\n",
      "Connect edges only between the following:------\n",
      "[0, 1]\n",
      "[1, 2]\n",
      "[2, 0]\n",
      "Final Adjacency matrix------------\n",
      "[0, 1, 1, 0, 0]\n",
      "[1, 0, 1, 0, 0]\n",
      "[1, 1, 0, 0, 0]\n",
      "[0, 0, 0, 0, 0]\n",
      "[0, 0, 0, 0, 0]\n",
      "----------------------------------\n"
     ]
    },
    {
     "data": {
      "image/png": "[encoded data removed]",
      "text/plain": [
       "<Figure size 432x288 with 1 Axes>"
      ]
     },
     "metadata": {},
     "output_type": "display_data"
    }
   ],
   "source": [
    "#Imports\n",
    "import numpy as np\n",
    "import networkx as nx\n",
    "#Inputs\n",
    "n=int(input(\"Enter the number of Nodes: \"))\n",
    "print(\"Enter value of each node in space separated order like : 1 3 43 2 1\")\n",
    "n_vals = list(map(int, input().split()))\n",
    "\n",
    "nc=int(input(\"Enter the number of constraints:  \"))\n",
    "print(\"Format of constraints: V1<V2 V2<V3 V3>V1\")\n",
    "const=input(\"Enter constraints in above format: \")\n",
    "#Initialize matrix with all zeroes\n",
    "adjmatrix=[]\n",
    "\n",
    "for i in range(n):\n",
    "    aditer=[]\n",
    "    for j in range(n):\n",
    "        aditer.append(0)\n",
    "    adjmatrix.append(aditer)\n",
    "\n",
    "\n",
    "#print(adjmatrix)\n",
    "\n",
    "#extract list of variables in each constraint respectively\n",
    "\n",
    "conlist=const.split()\n",
    "#print(conlist)\n",
    "var_relations=[]\n",
    "for i in conlist:\n",
    "    var_iter=[]\n",
    "    for j in range(len(i)):\n",
    "        if(i[j]==\"V\"):\n",
    "            var_iter.append(int(i[j+1])-1)\n",
    "    var_relations.append(var_iter)\n",
    "print('All possible edge connections ----------------')\n",
    "print(var_relations)\n",
    "print('----------------------------------------------')\n",
    "\n",
    "\n",
    "#convert the constraint to usable form\n",
    "for i in range(1,n+1):\n",
    "    var=\"V\"+str(i)\n",
    "    const= const.replace(var,str(n_vals[i-1]))\n",
    "#print(const)\n",
    "const_list=const.split()\n",
    "#print(const_list)\n",
    "\n",
    "const_bools=[]\n",
    "for i in const_list:\n",
    "    #print(i)\n",
    "    const_bools.append(eval(i))\n",
    "print('Constraint Results---------')\n",
    "print(const_bools)\n",
    "print('---------------------------')\n",
    "\n",
    "\n",
    "#Alter the matrix\n",
    "print('Connect edges only between the following:------')\n",
    "for i in range(len(var_relations)):\n",
    "    if(const_bools[i]):\n",
    "        print(var_relations[i])\n",
    "        a=var_relations[i][0]\n",
    "        b=var_relations[i][1]\n",
    "        adjmatrix[a][b]=1\n",
    "        adjmatrix[b][a]=1\n",
    "\n",
    "#display matrix\n",
    "print(\"Final Adjacency matrix------------\")\n",
    "for i in adjmatrix:\n",
    "    print(i)\n",
    "print('----------------------------------')\n",
    "\n",
    "b= np.matrix(adjmatrix)\n",
    "k=nx.from_numpy_matrix(b)\n",
    "nx.draw(k)"
   ]
  },
  {
   "cell_type": "code",
   "execution_count": null,
   "id": "technical-regard",
   "metadata": {},
   "outputs": [],
   "source": []
  }
 ],
 "metadata": {
  "kernelspec": {
   "display_name": "Python 3",
   "language": "python",
   "name": "python3"
  },
  "language_info": {
   "codemirror_mode": {
    "name": "ipython",
    "version": 3
   },
   "file_extension": ".py",
   "mimetype": "text/x-python",
   "name": "python",
   "nbconvert_exporter": "python",
   "pygments_lexer": "ipython3",
   "version": "3.6.8"
  }
 },
 "nbformat": 4,
 "nbformat_minor": 5
}
