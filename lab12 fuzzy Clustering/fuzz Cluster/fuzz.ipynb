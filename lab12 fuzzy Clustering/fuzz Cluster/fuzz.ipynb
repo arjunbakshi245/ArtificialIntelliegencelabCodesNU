{
 "cells": [
  {
   "cell_type": "code",
   "execution_count": 30,
   "id": "missing-monitoring",
   "metadata": {},
   "outputs": [
    {
     "name": "stdout",
     "output_type": "stream",
     "text": [
      "Enter height:  5.3\n",
      "Enter weight:  71\n",
      "HIEGHT : short, medium, tall :  [0.8000000000000007, 0, 0]\n",
      "WEIGHT : under, ok, over     :  [0, 0.3333333333333333, 0.2]\n",
      "Rule1 Strength:   0.2\n",
      "Rule2 Strength:   0\n",
      "Rule3 Strength:   0.3333333333333333\n"
     ]
    }
   ],
   "source": [
    "#LAB 12\n",
    "\n",
    "height = float(input('Enter height:  '))\n",
    "weight = float(input('Enter weight:  '))\n",
    "def getMembershipVals_height(h):\n",
    "    m_short = -1\n",
    "    m_meduim = -1\n",
    "    m_tall = -1\n",
    "    #for short\n",
    "    if(h < 5.2):\n",
    "        m_short  = 1\n",
    "    elif(5.2<=h<5.7):\n",
    "        m_short = 11.4 - 2*h\n",
    "    else:\n",
    "        m_short = 0\n",
    "    #for medium\n",
    "    if(h < 5.5 or h>6.3):\n",
    "        m_medium  = 0\n",
    "    elif(5.5<=h<5.9):\n",
    "        m_medium = (h-5.5)/0.4\n",
    "    elif(5.9<=h<6.0):\n",
    "        m_medium = 1\n",
    "    else:\n",
    "        m_medium = (6.3-h)/0.3\n",
    "    \n",
    "    #for tall\n",
    "    if(h < 6.0):\n",
    "        m_tall  = 0\n",
    "    elif(6.0<=h<6.3):\n",
    "        m_tall = 2*(h-6.0)\n",
    "    else:\n",
    "        m_tall = 1\n",
    "    return[m_short , m_medium , m_tall]\n",
    "\n",
    "def getMembershipVals_weight(w):\n",
    "    m_under = -1\n",
    "    m_ok = -1\n",
    "    m_over = -1\n",
    "    #for under\n",
    "    if(w < 50):\n",
    "        m_under  = 1\n",
    "    elif(50 <= w < 60):\n",
    "        m_under = 6 - w/10\n",
    "    else:\n",
    "        m_under = 0\n",
    "    #for ok\n",
    "    if(w < 57 or w > 72):\n",
    "        m_ok  = 0\n",
    "    elif(57 >= w > 64):\n",
    "        m_ok = (w - 57)/7\n",
    "    elif(69 <= w < 72):\n",
    "        m_ok = (72  - w)/3\n",
    "    else:\n",
    "        m_ok = 1\n",
    "    \n",
    "    #for over\n",
    "    if(w < 70):\n",
    "        m_over = 0\n",
    "    elif(70 <= w < 75):\n",
    "        m_over = 0.2*(w-70)\n",
    "    else:\n",
    "        m_over = 1\n",
    "    return[m_under , m_ok , m_over]\n",
    "\n",
    "\n",
    "height_memberVals = getMembershipVals_height(height)\n",
    "weight_memberVals = getMembershipVals_weight(weight)\n",
    "print('HIEGHT : short, medium, tall : ',height_memberVals)\n",
    "print('WEIGHT : under, ok, over     : ', weight_memberVals)\n",
    "#RULE 1 : If((Height is Medium or Short) and (Weight is Overweight) then not acceptable\n",
    "r1_strength = min(max(height_memberVals[0],height_memberVals[1]), weight_memberVals[2])\n",
    "print('Rule1 Strength:  ',r1_strength)\n",
    "\n",
    "#RULE 2 : If(Height is Tall) then acceptable\n",
    "r2_strength = height_memberVals[2]\n",
    "print('Rule2 Strength:  ',r2_strength)\n",
    "\n",
    "#RULE 3 : If((Height is Short) and (Weight is OK or Overweight)) then not acceptable\n",
    "r3_strength = min(height_memberVals[0], max(weight_memberVals[1], weight_memberVals[2]))\n",
    "print('Rule3 Strength:  ',r3_strength)"
   ]
  },
  {
   "cell_type": "code",
   "execution_count": 1,
   "id": "thorough-episode",
   "metadata": {},
   "outputs": [
    {
     "data": {
      "text/plain": [
       "<bound method NDFrame.head of                  country  child_mort  exports  health  imports  income  \\\n",
       "0            Afghanistan        90.2     10.0    7.58     44.9    1610   \n",
       "1                Albania        16.6     28.0    6.55     48.6    9930   \n",
       "2                Algeria        27.3     38.4    4.17     31.4   12900   \n",
       "3                 Angola       119.0     62.3    2.85     42.9    5900   \n",
       "4    Antigua and Barbuda        10.3     45.5    6.03     58.9   19100   \n",
       "..                   ...         ...      ...     ...      ...     ...   \n",
       "162              Vanuatu        29.2     46.6    5.25     52.7    2950   \n",
       "163            Venezuela        17.1     28.5    4.91     17.6   16500   \n",
       "164              Vietnam        23.3     72.0    6.84     80.2    4490   \n",
       "165                Yemen        56.3     30.0    5.18     34.4    4480   \n",
       "166               Zambia        83.1     37.0    5.89     30.9    3280   \n",
       "\n",
       "     inflation  life_expec  total_fer   gdpp  \n",
       "0         9.44        56.2       5.82    553  \n",
       "1         4.49        76.3       1.65   4090  \n",
       "2        16.10        76.5       2.89   4460  \n",
       "3        22.40        60.1       6.16   3530  \n",
       "4         1.44        76.8       2.13  12200  \n",
       "..         ...         ...        ...    ...  \n",
       "162       2.62        63.0       3.50   2970  \n",
       "163      45.90        75.4       2.47  13500  \n",
       "164      12.10        73.1       1.95   1310  \n",
       "165      23.60        67.5       4.67   1310  \n",
       "166      14.00        52.0       5.40   1460  \n",
       "\n",
       "[167 rows x 10 columns]>"
      ]
     },
     "execution_count": 1,
     "metadata": {},
     "output_type": "execute_result"
    }
   ],
   "source": [
    "    "
   ]
  },
  {
   "cell_type": "code",
   "execution_count": null,
   "id": "pacific-vision",
   "metadata": {},
   "outputs": [],
   "source": []
  }
 ],
 "metadata": {
  "kernelspec": {
   "display_name": "Python 3",
   "language": "python",
   "name": "python3"
  },
  "language_info": {
   "codemirror_mode": {
    "name": "ipython",
    "version": 3
   },
   "file_extension": ".py",
   "mimetype": "text/x-python",
   "name": "python",
   "nbconvert_exporter": "python",
   "pygments_lexer": "ipython3",
   "version": "3.6.8"
  }
 },
 "nbformat": 4,
 "nbformat_minor": 5
}
