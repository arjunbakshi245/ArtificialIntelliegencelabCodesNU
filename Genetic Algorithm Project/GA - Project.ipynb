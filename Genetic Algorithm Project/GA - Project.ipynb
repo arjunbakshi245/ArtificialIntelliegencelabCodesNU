{
 "cells": [
  {
   "cell_type": "code",
   "execution_count": 70,
   "id": "outside-rover",
   "metadata": {},
   "outputs": [],
   "source": [
    "from queue import Queue\n",
    "import math\n",
    "import random\n",
    "from copy import copy, deepcopy\n",
    "from matplotlib import pyplot as plt\n",
    "\n",
    "#Utility Functions\n",
    "\n",
    "#1. Formatiing queen position\n",
    "#  sol - a solution string\n",
    "#  n   - number of bits required in final solution\n",
    "def format_solution(sol,n):    \n",
    "    while(len(sol)<n):\n",
    "        sol= '0'+sol\n",
    "    return sol\n",
    "\n",
    "#2. Initial Population\n",
    "#  b_size = board size\n",
    "#  n_q = number of queens\n",
    "def in_populate(b_size, n_q, gen_size):\n",
    "    max_positions = b_size**2\n",
    "    n = b_size**2\n",
    "    n_bits = int(math.ceil(math.log(max_positions,2)))\n",
    "    #print(n)\n",
    "    q = Queue()\n",
    "    q.put(\"1\")\n",
    "    possible_solutions = []\n",
    "    while(n > 0):\n",
    "        n -= 1        \n",
    "        s1 = q.get()\n",
    "        possible_solutions.append(format_solution(s1,n_bits)) \n",
    "        s2 = s1       \n",
    "        q.put(s1+\"0\")       \n",
    "        q.put(s2+\"1\")\n",
    "    \n",
    "    #random initialization\n",
    "    gen_1 = []\n",
    "    for i in range(gen_size):\n",
    "        initial_pop = []\n",
    "        initial_pop_indexes = random.sample(range(0, len(possible_solutions)), n_q)\n",
    "        for j in initial_pop_indexes:\n",
    "            initial_pop.append(possible_solutions[j])\n",
    "        gen_1.append(initial_pop)\n",
    "    #print(possible_solutions)\n",
    "    return(gen_1)\n",
    "\n",
    "# 3. Fintess function \n",
    "#   sol_list = solution list\n",
    "#   n        = board size)\n",
    "def fitness(sol_list , n):\n",
    "    #board is n X n\n",
    "    board = []\n",
    "    val = 0\n",
    "    for i in range(n):\n",
    "        row= []\n",
    "        for j in range(n):\n",
    "            row.append(val)\n",
    "            val+=1\n",
    "        board.append(row)\n",
    "    sol = []\n",
    "    for i in sol_list:\n",
    "        sol.append(int(i,2))\n",
    "    positions=[]\n",
    "    #fit = []\n",
    "    for i in sol:\n",
    "        p = i//n\n",
    "        q = i%n\n",
    "        if(p>19):\n",
    "            p=19\n",
    "        #print(i,p,q)\n",
    "        \n",
    "        #north\n",
    "        for j in range(0,p):\n",
    "            #print(j,q,i)\n",
    "            if(board[j][q] not in positions):\n",
    "                positions.append(board[j][q])\n",
    "        #south\n",
    "        for j in range(p,n):\n",
    "            #print(j,q,i)\n",
    "            if(board[j][q] not in positions):\n",
    "                positions.append(board[j][q])\n",
    "        #west\n",
    "        for j in range(0,q):\n",
    "            #print(p,j,i)\n",
    "            if(board[p][j] not in positions):\n",
    "                positions.append(board[p][j])\n",
    "        #east\n",
    "        for j in range(q,n):\n",
    "            #print(p,j,1)\n",
    "            if(board[p][j] not in positions):\n",
    "                positions.append(board[p][j])\n",
    "        a,b = p,q\n",
    "        #north-west\n",
    "        while(-1<a<n and -1<b<n):\n",
    "            if(board[a][b] not in positions):\n",
    "                positions.append(board[a][b])\n",
    "            a-=1\n",
    "            b-=1\n",
    "        #north-east\n",
    "        while(-1<a<n and -1<b<n):\n",
    "            if(board[a][b] not in positions):\n",
    "                positions.append(board[a][b])\n",
    "            a-=1\n",
    "            b+=1\n",
    "        #south-west\n",
    "        while(-1<a<n and -1<b<n):\n",
    "            if(board[a][b] not in positions):\n",
    "                positions.append(board[a][b])\n",
    "            a-=1\n",
    "            b+=1\n",
    "        #south-east    \n",
    "        while(-1<a<n and -1<b<n):\n",
    "            if(board[a][b] not in positions):\n",
    "                positions.append(board[a][b])\n",
    "            a+=1\n",
    "            b+=1\n",
    "        #fit.append(len(positions))\n",
    "    return(len(positions))\n",
    "#print(fitness(['01101101', '00001110', '10001101', '10000010', '00111001', '00101010'],20))\n",
    "        \n",
    "# 4. Selection(gen) \n",
    "#returns the best two chromosomes from agiven generation\n",
    "def selection_best_two(gen,num):\n",
    "    gen_len = len(gen)\n",
    "    best_sol = []\n",
    "    sbest_sol = []\n",
    "    best_score = 0\n",
    "    secbest_score = 0\n",
    "    n = 20\n",
    "    for i in gen:\n",
    "        if(fitness(i,20)>=best_score):\n",
    "            sbest_sol = best_sol\n",
    "            secbest_score = best_score\n",
    "            best_score = fitness(i,20)\n",
    "            best_sol = i\n",
    "    #return [best_score , secbest_score]\n",
    "    if(num == 2):\n",
    "        return [best_sol, sbest_sol]\n",
    "    else:\n",
    "        return best_sol\n",
    "\n",
    "#5. average fitness of a population\n",
    "def find_avg_fitness(gen):\n",
    "    total = 0\n",
    "    n = 20\n",
    "    size = len(gen)\n",
    "    for i in gen:\n",
    "        total += fitness(i,n)\n",
    "    return total/size\n",
    "\n",
    "#6. Crossmutation(a,b) - returns generation of size 30 with a,b as parent\n",
    "# a - chosen parent chromosome\n",
    "# b - chosen parent chromosome\n",
    "def crossmutate_only_two_parents(a,b):\n",
    "    offsprings=[]\n",
    "    #single point crossover\n",
    "    for i in range(5):\n",
    "        x = deepcopy(b)\n",
    "        y = deepcopy(a)\n",
    "        r = random.randint(1,len(a)-1)\n",
    "        x[:r] = a[:r]\n",
    "        y[:r] = b[:r]\n",
    "        #print(r)\n",
    "        offsprings.append(x)\n",
    "        offsprings.append(y)        \n",
    "    \n",
    "    #double-point crossover\n",
    "    for i in range(10):\n",
    "        c = deepcopy(b)\n",
    "        d = deepcopy(a)\n",
    "        p = random.randint(0,len(b)-1)\n",
    "        q  = random.randint(0,len(b)-1)\n",
    "        c[p] = a[q]\n",
    "        d[q] = b[p]\n",
    "        offsprings.append(c)\n",
    "        offsprings.append(d)\n",
    "    \n",
    "    return offsprings\n",
    "\n",
    "        \n",
    "# 7. Returns list of best ten solutions asper fitness function\n",
    "#(decreasing order of fitness)\n",
    "def selection_best_ten(gen):\n",
    "    gen_len = len(gen)\n",
    "    best_ten = []\n",
    "    scores = []\n",
    "    inds=[]#storing indeces of selected solutions\n",
    "    for i in gen:\n",
    "        scores.append(fitness(i,20))\n",
    "    for i in range(10):\n",
    "        m = scores.index(max(scores))\n",
    "        inds.append(m)\n",
    "        scores[m] = 0\n",
    "    for i in inds:\n",
    "        best_ten.append(gen[i])\n",
    "    #returns in decreasing order of fitness \n",
    "    #for i in best_ten:\n",
    "        #print(fitness(i,20))\n",
    "    return best_ten\n",
    "\n",
    "# 8. Runs the roulette wheel once on a set of ten solutions\n",
    "# Solutions must be ordered in decreasing order of fitness\n",
    "def run_roulette_wheel(best_ten):\n",
    "    r = random.randint(0,360) #degeree of pointer after each spin\n",
    "    chosen_two = []\n",
    "    for i in range(15):\n",
    "        if(0<=r<=140):\n",
    "            chosen_two =[best_ten[0],best_ten[1]]\n",
    "        elif(141<=r<=220):\n",
    "            chosen_two =[best_ten[2],best_ten[3]]\n",
    "        elif(221<=r<=286):\n",
    "            chosen_two =[best_ten[4],best_ten[5]]\n",
    "        elif(287<=r<=338):\n",
    "            chosen_two =[best_ten[6],best_ten[7]]\n",
    "        elif(339<=r<=360):\n",
    "            chosen_two =[best_ten[8],best_ten[9]]\n",
    "    return chosen_two\n",
    "        \n",
    "# 9. crossmutation after roulette wheel selection\n",
    "# uses two functions run_roulette wheel and selection_best_ten\n",
    "def crossmutuate_after_roulette_wheel(gen):\n",
    "    best_ten = selection_best_ten(gen)\n",
    "    offsprings=[]\n",
    "    #single point crossover\n",
    "    for i in range(15):\n",
    "        chosen_two = run_roulette_wheel(best_ten)\n",
    "        a = chosen_two[0]\n",
    "        b = chosen_two[1]\n",
    "        x = deepcopy(b)\n",
    "        y = deepcopy(a)\n",
    "        #r = random.randint(1,len(a)-1)\n",
    "        r = 3 #fixing crossmutation point\n",
    "        x[:r] = a[:r]\n",
    "        y[:r] = b[:r]\n",
    "        #print(r)\n",
    "        offsprings.append(x)\n",
    "        offsprings.append(y)\n",
    "    return offsprings\n",
    "    \n",
    "#10. Mutations (Random)\n",
    "def insert_mutation(gen,n):\n",
    "    for i in range(n):\n",
    "        r = random.randint(0,len(gen)-1)\n",
    "        s = random.randint(0,len(gen[1])-1)\n",
    "        t = random.randint(3,len(gen[1][1])-1)#Handling constraints\n",
    "        #print(gen[r][s])\n",
    "        li = list(gen[r][s])\n",
    "        if(li[t] == '0'):\n",
    "            li[t]='1'\n",
    "            #a = a[:4] +'1'+ a[5:]\n",
    "        else:\n",
    "            li[t]='0'\n",
    "        gen[r][s] = ''.join(li)\n",
    "        #print(gen[r][s])\n",
    "    \n",
    "    #print(r,s,t)\n",
    "    return gen\n",
    "\n",
    "#11. get_conv_rate(arr):\n",
    "#  arr = fitness array of an evolution cycle\n",
    "def get_conv_rate(arr):\n",
    "    diff= []\n",
    "    for i in range(len(arr)-1):\n",
    "        diff.append(arr[i+1]-arr[i])\n",
    "    return sum(diff)   #100/400 is 4\n",
    "\n",
    "#12. Elitist Selection\n",
    "# a,b are best solution of current generation\n",
    "def elitist_selection(a,b):\n",
    "    offsprings=[]\n",
    "    \n",
    "    #Preserving the parents(parents fed to this function are the best two of the generation)\n",
    "    offsprings.append(a)\n",
    "    offsprings.append(b)\n",
    "    #single point crossover\n",
    "    for i in range(5):\n",
    "        x = deepcopy(b)\n",
    "        y = deepcopy(a)\n",
    "        r = random.randint(0,len(a)-1)\n",
    "        x[:r] = a[:r]\n",
    "        y[:r] = b[:r]\n",
    "        #print(r)\n",
    "        offsprings.append(x)\n",
    "        offsprings.append(y)        \n",
    "    \n",
    "    #double-point crossover\n",
    "    for i in range(9):\n",
    "        c = deepcopy(b)\n",
    "        d = deepcopy(a)\n",
    "        p = random.randint(1,len(b)-2)\n",
    "        q  = random.randint(1,len(b)-2)\n",
    "        c[p] = a[q]\n",
    "        d[q] = b[p]\n",
    "        offsprings.append(c)\n",
    "        offsprings.append(d)\n",
    "    \n",
    "    return offsprings"
   ]
  },
  {
   "cell_type": "code",
   "execution_count": 3,
   "id": "private-boards",
   "metadata": {},
   "outputs": [
    {
     "name": "stdout",
     "output_type": "stream",
     "text": [
      "Average fitness of initial Population:   327.9\n"
     ]
    }
   ],
   "source": [
    "#initializing population\n",
    "initpop = in_populate(20,14,30)\n",
    "print('Average fitness of initial Population:  ',find_avg_fitness(initpop))"
   ]
  },
  {
   "cell_type": "code",
   "execution_count": 95,
   "id": "incorporate-january",
   "metadata": {},
   "outputs": [
    {
     "name": "stdout",
     "output_type": "stream",
     "text": [
      "Average fitness of Generation  1  :  340.7\n",
      "Fitness of Best solution          :  353\n",
      "Average fitness of Generation  2  :  340.0\n",
      "Fitness of Best solution          :  350\n",
      "Average fitness of Generation  3  :  350.8\n",
      "Fitness of Best solution          :  355\n",
      "Average fitness of Generation  4  :  351.3666666666667\n",
      "Fitness of Best solution          :  362\n",
      "Average fitness of Generation  5  :  361.1666666666667\n",
      "Fitness of Best solution          :  367\n",
      "Average fitness of Generation  6  :  364.1666666666667\n",
      "Fitness of Best solution          :  374\n",
      "Average fitness of Generation  7  :  370.3\n",
      "Fitness of Best solution          :  374\n",
      "Average fitness of Generation  8  :  374.0\n",
      "Fitness of Best solution          :  374\n",
      "Average fitness of Generation  9  :  374.0\n",
      "Fitness of Best solution          :  374\n",
      "Average fitness of Generation  10  :  374.0\n",
      "Fitness of Best solution          :  374\n",
      "Average fitness of Generation  11  :  374.1\n",
      "Fitness of Best solution          :  375\n",
      "Average fitness of Generation  12  :  375.06666666666666\n",
      "Fitness of Best solution          :  377\n",
      "Average fitness of Generation  13  :  376.06666666666666\n",
      "Fitness of Best solution          :  377\n",
      "Average fitness of Generation  14  :  377.3\n",
      "Fitness of Best solution          :  378\n",
      "Average fitness of Generation  15  :  378.23333333333335\n",
      "Fitness of Best solution          :  379\n"
     ]
    },
    {
     "data": {
      "image/png": "[encoded data removed]",
      "text/plain": [
       "<Figure size 432x288 with 1 Axes>"
      ]
     },
     "metadata": {
      "needs_background": "light"
     },
     "output_type": "display_data"
    },
    {
     "name": "stdout",
     "output_type": "stream",
     "text": [
      "37.53333333333336\n"
     ]
    },
    {
     "data": {
      "image/png": "[encoded data removed]",
      "text/plain": [
       "<Figure size 432x288 with 1 Axes>"
      ]
     },
     "metadata": {
      "needs_background": "light"
     },
     "output_type": "display_data"
    }
   ],
   "source": [
    "#testing roulette wheel selection\n",
    "\n",
    "\n",
    "#print(selection_best_two(initpop))\n",
    "fitness_array_wheel = []\n",
    "fitness_array_wheel_best = []\n",
    "gen_count = 0\n",
    "new_gen = deepcopy(initpop)\n",
    "#iterating till condition\n",
    "while(gen_count<15 and int(find_avg_fitness(new_gen)) != int(fitness(selection_best_two(new_gen,1),20))):\n",
    "    gen_count+=1\n",
    "    new_gen = crossmutuate_after_roulette_wheel(new_gen)\n",
    "    print('Average fitness of Generation ',gen_count,' : ',find_avg_fitness(new_gen))\n",
    "    fitness_array_wheel.append(find_avg_fitness(new_gen))\n",
    "    print('Fitness of Best solution          : ',fitness(selection_best_two(new_gen,1),20))\n",
    "    fitness_array_wheel_best.append(fitness(selection_best_two(new_gen,1),20))\n",
    "    #print(selection_best_two(new_gen))\n",
    "    new_gen = insert_mutation(new_gen,20)\n",
    "    \n",
    "plt.plot(fitness_array_wheel)\n",
    "plt.show()\n",
    "print(get_conv_rate(fitness_array_wheel))\n",
    "plt.plot(fitness_array_wheel_best)\n",
    "plt.show()"
   ]
  },
  {
   "cell_type": "code",
   "execution_count": 57,
   "id": "changing-longer",
   "metadata": {},
   "outputs": [
    {
     "name": "stdout",
     "output_type": "stream",
     "text": [
      "Average fitness of Generation  1  :  346.9\n",
      "Fitness of Best solution          :  360\n",
      "Average fitness of Generation  2  :  352.1\n",
      "Fitness of Best solution          :  370\n",
      "Average fitness of Generation  3  :  353.125\n",
      "Fitness of Best solution          :  368\n",
      "Average fitness of Generation  4  :  352.65\n",
      "Fitness of Best solution          :  367\n",
      "Average fitness of Generation  5  :  353.55\n",
      "Fitness of Best solution          :  371\n",
      "Average fitness of Generation  6  :  358.575\n",
      "Fitness of Best solution          :  371\n",
      "Average fitness of Generation  7  :  363.625\n",
      "Fitness of Best solution          :  373\n",
      "Average fitness of Generation  8  :  366.0\n",
      "Fitness of Best solution          :  374\n",
      "Average fitness of Generation  9  :  368.075\n",
      "Fitness of Best solution          :  376\n",
      "Average fitness of Generation  10  :  367.5\n",
      "Fitness of Best solution          :  376\n",
      "Average fitness of Generation  11  :  366.6\n",
      "Fitness of Best solution          :  376\n",
      "Average fitness of Generation  12  :  368.275\n",
      "Fitness of Best solution          :  380\n",
      "Average fitness of Generation  13  :  373.025\n",
      "Fitness of Best solution          :  380\n",
      "Average fitness of Generation  14  :  372.675\n",
      "Fitness of Best solution          :  380\n",
      "Average fitness of Generation  15  :  373.325\n",
      "Fitness of Best solution          :  381\n"
     ]
    },
    {
     "data": {
      "image/png": "[encoded data removed]",
      "text/plain": [
       "<Figure size 432x288 with 1 Axes>"
      ]
     },
     "metadata": {
      "needs_background": "light"
     },
     "output_type": "display_data"
    },
    {
     "name": "stdout",
     "output_type": "stream",
     "text": [
      "26.42500000000001\n"
     ]
    }
   ],
   "source": [
    "#testing 2 best parents selection\n",
    "\n",
    "\n",
    "#print(selection_best_two(initpop))\n",
    "gen_count = 0\n",
    "new_gen = deepcopy(initpop)\n",
    "best_two = selection_best_two(new_gen,2)\n",
    "fitness_array_best_two=[]\n",
    "#iterating till condition\n",
    "while(gen_count<15 and (find_avg_fitness(new_gen))!=fitness(selection_best_two(new_gen,1),20)):\n",
    "    gen_count+=1    \n",
    "    new_gen = crossmutate_only_two_parents(best_two[0],best_two[1])\n",
    "    print('Average fitness of Generation ',gen_count,' : ',find_avg_fitness(new_gen))\n",
    "    fitness_array_best_two.append(find_avg_fitness(new_gen))\n",
    "    print('Fitness of Best solution          : ',fitness(selection_best_two(new_gen,1),20))\n",
    "    new_gen = insert_mutation(new_gen,25)\n",
    "    best_two = selection_best_two(new_gen,2)\n",
    "    \n",
    "plt.plot(fitness_array_best_two)\n",
    "plt.show()\n",
    "print(get_conv_rate(fitness_array_best_two))"
   ]
  },
  {
   "cell_type": "code",
   "execution_count": 88,
   "id": "genetic-freeze",
   "metadata": {},
   "outputs": [
    {
     "name": "stdout",
     "output_type": "stream",
     "text": [
      "Average fitness of Generation  1  :  344.0\n",
      "Fitness of Best solution          :  360\n",
      "Average fitness of Generation  2  :  352.93333333333334\n",
      "Fitness of Best solution          :  368\n",
      "Average fitness of Generation  3  :  358.3666666666667\n",
      "Fitness of Best solution          :  368\n",
      "Average fitness of Generation  4  :  361.73333333333335\n",
      "Fitness of Best solution          :  368\n",
      "Average fitness of Generation  5  :  362.53333333333336\n",
      "Fitness of Best solution          :  368\n",
      "Average fitness of Generation  6  :  361.73333333333335\n",
      "Fitness of Best solution          :  368\n",
      "Average fitness of Generation  7  :  363.1666666666667\n",
      "Fitness of Best solution          :  371\n",
      "Average fitness of Generation  8  :  363.93333333333334\n",
      "Fitness of Best solution          :  371\n",
      "Average fitness of Generation  9  :  364.56666666666666\n",
      "Fitness of Best solution          :  371\n",
      "Average fitness of Generation  10  :  364.56666666666666\n",
      "Fitness of Best solution          :  371\n",
      "Average fitness of Generation  11  :  364.46666666666664\n",
      "Fitness of Best solution          :  371\n",
      "Average fitness of Generation  12  :  363.5\n",
      "Fitness of Best solution          :  376\n",
      "Average fitness of Generation  13  :  369.4\n",
      "Fitness of Best solution          :  376\n",
      "Average fitness of Generation  14  :  368.6\n",
      "Fitness of Best solution          :  376\n",
      "Average fitness of Generation  15  :  369.56666666666666\n",
      "Fitness of Best solution          :  376\n"
     ]
    },
    {
     "data": {
      "image/png": "[encoded data removed]",
      "text/plain": [
       "<Figure size 432x288 with 1 Axes>"
      ]
     },
     "metadata": {
      "needs_background": "light"
     },
     "output_type": "display_data"
    },
    {
     "name": "stdout",
     "output_type": "stream",
     "text": [
      "25.566666666666663\n"
     ]
    }
   ],
   "source": [
    "#ELITIST SELECTION\n",
    "\n",
    "gen_count = 0\n",
    "new_gen = deepcopy(initpop)\n",
    "best_two = selection_best_two(new_gen,2)\n",
    "fitness_array_elitist=[]\n",
    "#iterating till condition\n",
    "while(gen_count<15 and (find_avg_fitness(new_gen))!=fitness(selection_best_two(new_gen,1),20)):\n",
    "    gen_count+=1    \n",
    "    new_gen = elitist_selection(best_two[0],best_two[1])\n",
    "    print('Average fitness of Generation ',gen_count,' : ',find_avg_fitness(new_gen))\n",
    "    fitness_array_elitist.append(find_avg_fitness(new_gen))\n",
    "    print('Fitness of Best solution          : ',fitness(selection_best_two(new_gen,1),20))\n",
    "    new_gen = insert_mutation(new_gen,5)\n",
    "    best_two = selection_best_two(new_gen,2)\n",
    "    \n",
    "plt.plot(fitness_array_elitist)\n",
    "plt.show()\n",
    "print(get_conv_rate(fitness_array_elitist))"
   ]
  },
  {
   "cell_type": "code",
   "execution_count": 61,
   "id": "global-pittsburgh",
   "metadata": {},
   "outputs": [
    {
     "data": {
      "image/png": "[encoded data removed]",
      "text/plain": [
       "<Figure size 432x288 with 1 Axes>"
      ]
     },
     "metadata": {
      "needs_background": "light"
     },
     "output_type": "display_data"
    }
   ],
   "source": [
    "mutation_best_two = [20.05 , 13.35 , 22.62 , 21.69 , 26.42]\n",
    "#mutations = [5,10,15,20,25]\n",
    "plt.plot([5,10,15,20,25], [20.05 , 13.35 , 22.62 , 21.69 , 26.42])\n",
    "plt.title('avg_conv vs mutation   Best_Two')\n",
    "plt.show()"
   ]
  },
  {
   "cell_type": "markdown",
   "id": "loose-monroe",
   "metadata": {},
   "source": [
    "67004/25"
   ]
  },
  {
   "cell_type": "code",
   "execution_count": 68,
   "id": "distinct-grave",
   "metadata": {},
   "outputs": [
    {
     "data": {
      "image/png": "[encoded data removed]",
      "text/plain": [
       "<Figure size 432x288 with 1 Axes>"
      ]
     },
     "metadata": {
      "needs_background": "light"
     },
     "output_type": "display_data"
    }
   ],
   "source": [
    "mutation_roulette_wheel = [23.8, 35.4, 33.0 , 33.33 , 28.23]\n",
    "#mutations = [5,10,15,20,25]\n",
    "plt.plot([5,10,15,20,25], [23.8, 35.4, 33.0 , 33.33 , 27.26])\n",
    "plt.title('avg_conv vs mutation    Roulette Wheel')\n",
    "plt.show()"
   ]
  },
  {
   "cell_type": "code",
   "execution_count": 90,
   "id": "front-shaft",
   "metadata": {},
   "outputs": [
    {
     "data": {
      "image/png": "[encoded data removed]",
      "text/plain": [
       "<Figure size 432x288 with 1 Axes>"
      ]
     },
     "metadata": {
      "needs_background": "light"
     },
     "output_type": "display_data"
    }
   ],
   "source": [
    "mutation_elitist = [25.5 , 18.69 , 24.12 , 30.26 , 26.42]\n",
    "#mutations = [5,10,15,20,25]\n",
    "plt.plot([5,10,15,20,25], [25.5 , 18.69 , 24.12 , 30.26 , 26.42])\n",
    "plt.title('avg_conv vs mutation   Elitist')\n",
    "plt.show()"
   ]
  },
  {
   "cell_type": "code",
   "execution_count": null,
   "id": "moving-split",
   "metadata": {},
   "outputs": [],
   "source": []
  }
 ],
 "metadata": {
  "kernelspec": {
   "display_name": "Python 3",
   "language": "python",
   "name": "python3"
  },
  "language_info": {
   "codemirror_mode": {
    "name": "ipython",
    "version": 3
   },
   "file_extension": ".py",
   "mimetype": "text/x-python",
   "name": "python",
   "nbconvert_exporter": "python",
   "pygments_lexer": "ipython3",
   "version": "3.6.8"
  }
 },
 "nbformat": 4,
 "nbformat_minor": 5
}
